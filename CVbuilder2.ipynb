{
 "cells": [
  {
   "cell_type": "code",
   "execution_count": 1,
   "metadata": {
    "collapsed": true
   },
   "outputs": [],
   "source": [
    "import numpy as np\n",
    "import random\n",
    "random.seed()"
   ]
  },
  {
   "cell_type": "code",
   "execution_count": 2,
   "metadata": {
    "collapsed": true
   },
   "outputs": [],
   "source": [
    "#\n",
    "# MUST BE SORTED CSV\n",
    "#\n",
    "matches = np.genfromtxt(r\"C:\\data\\pill\\GroundTruthTable.csv\", dtype=None, delimiter=\",\")"
   ]
  },
  {
   "cell_type": "code",
   "execution_count": 5,
   "metadata": {
    "collapsed": true
   },
   "outputs": [],
   "source": [
    "DC = np.unique(matches[1:,0])\n",
    "DR = np.unique(matches[1:,1])"
   ]
  },
  {
   "cell_type": "code",
   "execution_count": 8,
   "metadata": {
    "collapsed": false
   },
   "outputs": [
    {
     "data": {
      "text/plain": [
       "400"
      ]
     },
     "execution_count": 8,
     "metadata": {},
     "output_type": "execute_result"
    }
   ],
   "source": [
    "len(DC)/5"
   ]
  },
  {
   "cell_type": "code",
   "execution_count": 20,
   "metadata": {
    "collapsed": false
   },
   "outputs": [],
   "source": [
    "CV = []\n",
    "for i in range(5):\n",
    "    CV.append([DC[len(DC)/5*i:len(DC)/5*(i+1)],DR[len(DR)/5*i:len(DR)/5*(i+1)]] )"
   ]
  },
  {
   "cell_type": "code",
   "execution_count": 21,
   "metadata": {
    "collapsed": false
   },
   "outputs": [
    {
     "data": {
      "text/plain": [
       "5"
      ]
     },
     "execution_count": 21,
     "metadata": {},
     "output_type": "execute_result"
    }
   ],
   "source": [
    "len(CV)"
   ]
  },
  {
   "cell_type": "code",
   "execution_count": 23,
   "metadata": {
    "collapsed": false
   },
   "outputs": [
    {
     "name": "stdout",
     "output_type": "stream",
     "text": [
      "('00002-3228-30_PART_1_OF_1_CHAL10_SB_391E1C80.jpg', '00093-2929-01_PART_1_OF_1_CHAL10_SF_E52972BB.jpg')\n",
      "('00093-2931-01_PART_1_OF_1_CHAL10_SB_4A2B2559.jpg', '00093-7386-56_PART_1_OF_1_CHAL10_SF_092F84AC.jpg')\n",
      "('00093-7425-56_PART_1_OF_1_CHAL10_SB_D727EBFF.jpg', '00456-0457-01_PART_1_OF_1_CHAL10_SF_D51D6AFB.jpg')\n",
      "('00456-1420-30_PART_1_OF_1_CHAL10_SB_44132249.jpg', '50111-0397-01_PART_1_OF_1_CHAL10_SF_F72FFBEF.jpg')\n",
      "('50111-0398-01_PART_1_OF_1_CHAL10_SB_04300270.jpg', '99207-0467-30_PART_1_OF_1_CHAL10_SF_C11D60AB.jpg')\n"
     ]
    }
   ],
   "source": [
    "for i in range(5):\n",
    "    print (CV[i][0][0], CV[i][0][-1])"
   ]
  },
  {
   "cell_type": "code",
   "execution_count": 26,
   "metadata": {
    "collapsed": true
   },
   "outputs": [],
   "source": [
    "indexes = []\n",
    "for i in range(5):\n",
    "    index = []\n",
    "    for j in range(5):\n",
    "        if i != j:\n",
    "            index.append(j)\n",
    "    indexes.append(index)"
   ]
  },
  {
   "cell_type": "code",
   "execution_count": 27,
   "metadata": {
    "collapsed": false
   },
   "outputs": [
    {
     "data": {
      "text/plain": [
       "[[1, 2, 3, 4], [0, 2, 3, 4], [0, 1, 3, 4], [0, 1, 2, 4], [0, 1, 2, 3]]"
      ]
     },
     "execution_count": 27,
     "metadata": {},
     "output_type": "execute_result"
    }
   ],
   "source": [
    "indexes"
   ]
  },
  {
   "cell_type": "code",
   "execution_count": 47,
   "metadata": {
    "collapsed": false
   },
   "outputs": [],
   "source": [
    "CV2 = []\n",
    "for index in indexes:\n",
    "    cv = [[],[]]\n",
    "    for j in index:\n",
    "        for i in range(len(CV[j][0])):\n",
    "            cv[0].append(CV[j][0][i])\n",
    "        for i in range(len(CV[j][1])):\n",
    "            cv[1].append(CV[j][1][i])\n",
    "    CV2.append(cv)\n",
    "    \n",
    "    "
   ]
  },
  {
   "cell_type": "code",
   "execution_count": 54,
   "metadata": {
    "collapsed": false
   },
   "outputs": [
    {
     "data": {
      "text/plain": [
       "'99207-0467-30_PART_1_OF_1_CHAL10_SF_C11D60AB.jpg'"
      ]
     },
     "execution_count": 54,
     "metadata": {},
     "output_type": "execute_result"
    }
   ],
   "source": [
    "CV2[2][0][-1]"
   ]
  },
  {
   "cell_type": "code",
   "execution_count": null,
   "metadata": {
    "collapsed": true
   },
   "outputs": [],
   "source": []
  }
 ],
 "metadata": {
  "kernelspec": {
   "display_name": "Python 2",
   "language": "python",
   "name": "python2"
  },
  "language_info": {
   "codemirror_mode": {
    "name": "ipython",
    "version": 2
   },
   "file_extension": ".py",
   "mimetype": "text/x-python",
   "name": "python",
   "nbconvert_exporter": "python",
   "pygments_lexer": "ipython2",
   "version": "2.7.11"
  }
 },
 "nbformat": 4,
 "nbformat_minor": 0
}
