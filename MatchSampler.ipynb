{
 "cells": [
  {
   "cell_type": "code",
   "execution_count": 27,
   "metadata": {
    "collapsed": true
   },
   "outputs": [],
   "source": [
    "import numpy as np\n",
    "import random\n",
    "random.seed()"
   ]
  },
  {
   "cell_type": "code",
   "execution_count": 28,
   "metadata": {
    "collapsed": true
   },
   "outputs": [],
   "source": [
    "matches = np.genfromtxt(r\"C:\\data\\pill\\GroundTruthTable.csv\", dtype=None, delimiter=\",\")"
   ]
  },
  {
   "cell_type": "code",
   "execution_count": 29,
   "metadata": {
    "collapsed": false
   },
   "outputs": [
    {
     "name": "stdout",
     "output_type": "stream",
     "text": [
      "[['00002-3228-30_PART_1_OF_1_CHAL10_SB_391E1C80.jpg' '2283.jpg']\n",
      " ['00002-3228-30_PART_1_OF_1_CHAL10_SB_391E1C80.jpg' '588.jpg']\n",
      " ['00002-3228-30_PART_1_OF_1_CHAL10_SB_391E1C80.jpg' '4275.jpg']\n",
      " ['00002-3228-30_PART_1_OF_1_CHAL10_SB_391E1C80.jpg' '1292.jpg']\n",
      " ['00002-3228-30_PART_1_OF_1_CHAL10_SB_391E1C80.jpg' '3598.jpg']\n",
      " ['00002-3228-30_PART_1_OF_1_CHAL10_SF_391E1C80.jpg' '2283.jpg']\n",
      " ['00002-3228-30_PART_1_OF_1_CHAL10_SF_391E1C80.jpg' '588.jpg']\n",
      " ['00002-3228-30_PART_1_OF_1_CHAL10_SF_391E1C80.jpg' '4275.jpg']\n",
      " ['00002-3228-30_PART_1_OF_1_CHAL10_SF_391E1C80.jpg' '1292.jpg']\n",
      " ['00002-3228-30_PART_1_OF_1_CHAL10_SF_391E1C80.jpg' '3598.jpg']\n",
      " ['00002-3229-30_PART_1_OF_1_CHAL10_SB_3E1E1F50.jpg' '630.jpg']\n",
      " ['00002-3229-30_PART_1_OF_1_CHAL10_SB_3E1E1F50.jpg' '3699.jpg']\n",
      " ['00002-3229-30_PART_1_OF_1_CHAL10_SB_3E1E1F50.jpg' '1685.jpg']\n",
      " ['00002-3229-30_PART_1_OF_1_CHAL10_SB_3E1E1F50.jpg' '3321.jpg']\n",
      " ['00002-3229-30_PART_1_OF_1_CHAL10_SB_3E1E1F50.jpg' '947.jpg']\n",
      " ['00002-3229-30_PART_1_OF_1_CHAL10_SF_3E1E1F50.jpg' '630.jpg']\n",
      " ['00002-3229-30_PART_1_OF_1_CHAL10_SF_3E1E1F50.jpg' '3699.jpg']\n",
      " ['00002-3229-30_PART_1_OF_1_CHAL10_SF_3E1E1F50.jpg' '1685.jpg']\n",
      " ['00002-3229-30_PART_1_OF_1_CHAL10_SF_3E1E1F50.jpg' '3321.jpg']\n",
      " ['00002-3229-30_PART_1_OF_1_CHAL10_SF_3E1E1F50.jpg' '947.jpg']]\n"
     ]
    }
   ],
   "source": [
    "matches = matches[1:]\n",
    "print(matches[:20])"
   ]
  },
  {
   "cell_type": "code",
   "execution_count": 38,
   "metadata": {
    "collapsed": false
   },
   "outputs": [
    {
     "name": "stdout",
     "output_type": "stream",
     "text": [
      "(7, 530)\n",
      "(786, 133)\n",
      "(91, 177)\n",
      "(304, 676)\n",
      "(164, 148)\n",
      "(719, 421)\n"
     ]
    }
   ],
   "source": [
    "imgList = []\n",
    "for i in range(10):\n",
    "    m = random.randint(0,1)\n",
    "    if m:\n",
    "        line = random.randint(0,1000)\n",
    "        ref = matches[line,0]\n",
    "        con = matches[line,1]\n",
    "    else:\n",
    "        line1 = 0\n",
    "        line2 = 0\n",
    "        while (line1 == line2):\n",
    "            line1 = random.randint(0,1000)\n",
    "            line2 = random.randint(0,1000)\n",
    "            print(line1, line2)\n",
    "        ref = matches[line1,0]\n",
    "        con = matches[line2,1]\n",
    "    imgList.append([ref,con])"
   ]
  },
  {
   "cell_type": "code",
   "execution_count": 39,
   "metadata": {
    "collapsed": false
   },
   "outputs": [
    {
     "data": {
      "text/plain": [
       "[['00002-3228-30_PART_1_OF_1_CHAL10_SF_391E1C80.jpg', '2745.jpg'],\n",
       " ['00002-4464-30_PART_1_OF_1_CHAL10_SB_B8155C1A.jpg', '3917.jpg'],\n",
       " ['00093-0058-01_PART_1_OF_1_CHAL10_SF_00280060.jpg', '3584.jpg'],\n",
       " ['00078-0360-34_PART_1_OF_1_CHAL10_SF_F015780B.jpg', '1957.jpg'],\n",
       " ['00004-0800-85_PART_1_OF_1_CHAL10_SB_491E24C1.jpg', '1464.jpg'],\n",
       " ['00071-0155-23_PART_1_OF_1_CHAL10_SF_711C38F1.jpg', '2723.jpg'],\n",
       " ['00054-2526-25_PART_1_OF_1_CHAL10_SB_961C4B22.jpg', '1281.jpg'],\n",
       " ['00007-4891-20_PART_1_OF_1_CHAL10_SB_CD18E6D7.jpg', '4559.jpg'],\n",
       " ['00093-0028-01_PART_1_OF_1_CHAL10_SF_6A29B54D.jpg', '2660.jpg'],\n",
       " ['00023-9350-07_PART_1_OF_1_CHAL10_SF_D4196A7B.jpg', '4806.jpg']]"
      ]
     },
     "execution_count": 39,
     "metadata": {},
     "output_type": "execute_result"
    }
   ],
   "source": [
    "imgList"
   ]
  },
  {
   "cell_type": "code",
   "execution_count": null,
   "metadata": {
    "collapsed": true
   },
   "outputs": [],
   "source": []
  }
 ],
 "metadata": {
  "kernelspec": {
   "display_name": "Python 2",
   "language": "python",
   "name": "python2"
  },
  "language_info": {
   "codemirror_mode": {
    "name": "ipython",
    "version": 2
   },
   "file_extension": ".py",
   "mimetype": "text/x-python",
   "name": "python",
   "nbconvert_exporter": "python",
   "pygments_lexer": "ipython2",
   "version": "2.7.11"
  }
 },
 "nbformat": 4,
 "nbformat_minor": 0
}
